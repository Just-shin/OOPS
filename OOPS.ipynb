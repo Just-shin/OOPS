{
 "cells": [
  {
   "cell_type": "markdown",
   "metadata": {},
   "source": [
    "1. What are the five key concepts of Object-Oriented Programming (OOP) ?\n",
    "\n",
    "Answer - \n",
    "\n",
    "    The five key concepts of Object-Oriented Programming (OOP) are:-\n",
    "\n",
    "    Classes and Objects >>\n",
    "    Class:- A blueprint for creating objects. It defines a datatype by bundling data and methods that work on the data.\n",
    "    Object:- An instance of a class. It represents a specific implementation of the class with actual values.\n",
    "    Encapsulation >>\n",
    "    The practice of wrapping data (variables) and methods (functions) that operate on the data into a single unit, or class. It restricts direct access to some of the object’s components, which can prevent the accidental modification of data.\n",
    "    Inheritance >>\n",
    "    A mechanism where a new class inherits properties and behavior (methods) from an existing class. This promotes code reusability and establishes a natural hierarchy between classes.\n",
    "    Polymorphism >>\n",
    "    The ability of different classes to be treated as instances of the same class through a common interface. It allows methods to do different things based on the object it is acting upon, even though they share the same name.\n",
    "    Abstraction >>\n",
    "    The concept of hiding the complex implementation details and showing only the necessary features of an object. It helps in reducing programming complexity and effort."
   ]
  },
  {
   "cell_type": "markdown",
   "metadata": {},
   "source": [
    "2. Write a python class for a 'car' with attributes for 'make', and 'year'. Include a method to display the car's information."
   ]
  },
  {
   "cell_type": "code",
   "execution_count": 1,
   "metadata": {},
   "outputs": [
    {
     "name": "stdout",
     "output_type": "stream",
     "text": [
      "Car Information:\n",
      "Make: Tata\n",
      "Year: 2024\n"
     ]
    }
   ],
   "source": [
    "class Car:\n",
    "    def __init__(self, make, year):\n",
    "        self.make = make\n",
    "        self.year = year\n",
    "    \n",
    "    def display_info(self):\n",
    "        print(f\"Car Information:\")\n",
    "        print(f\"Make: {self.make}\")\n",
    "        print(f\"Year: {self.year}\")\n",
    "my_car = Car(\"Tata\", 2024)\n",
    "my_car.display_info()"
   ]
  },
  {
   "cell_type": "markdown",
   "metadata": {},
   "source": [
    "3. Explain the difference between instance methods and class methods. Provide an example of each.\n",
    "\n",
    "Answer - \n",
    "\n",
    "    Instance methods >> \n",
    "    Instance methods are the most common type of methods in Python classes. They operate on individual instances of the class and have access to the instance's attributes through the 'self' parameter.\n",
    "\n",
    "    Key characteristics >> take 'self' as the first parameter; can access and modify instance attributes; they are called on instances of the class. \n",
    "\n",
    "    Class methods >> \n",
    "    Class methods are methods that are bound to the class(itself) rather than its instances. They can be called on the class itself, without creating an instance. \n",
    "    \n",
    "    Key characteristics >> defined using the @classmethod decorator; take 'cls' as the first parameter; can access and modify class attributes, but not instance attributes; can be called on both the class and its instances."
   ]
  },
  {
   "cell_type": "code",
   "execution_count": 2,
   "metadata": {},
   "outputs": [
    {
     "name": "stdout",
     "output_type": "stream",
     "text": [
      "Car: 2022 Ambassador\n",
      "Car: 2023 Honda\n",
      "2\n"
     ]
    }
   ],
   "source": [
    "#Examples >> \n",
    "\n",
    "class Car:\n",
    "    total_cars = 0  # Class attribute\n",
    "\n",
    "    def __init__(self, make, year):\n",
    "        self.make = make  # Instance attribute\n",
    "        self.year = year  # Instance attribute\n",
    "        Car.total_cars += 1\n",
    "\n",
    "    def display_info(self):  # Instance method\n",
    "        print(f\"Car: {self.year} {self.make}\")\n",
    "\n",
    "    @classmethod\n",
    "    def get_total_cars(cls):  # Class method\n",
    "        return cls.total_cars\n",
    "    \n",
    "car1 = Car(\"Ambassador\", 2022)\n",
    "car2 = Car(\"Honda\", 2023)\n",
    "\n",
    "car1.display_info()\n",
    "car2.display_info()\n",
    "print(Car.get_total_cars())\n",
    "\n",
    "##Class methods are useful for operations that involve the class as a whole, rather than specific instances. \n",
    "#They're often used for alternative constructors or for methods that need to know about the state of the class, but not about the state of specific instances."
   ]
  },
  {
   "cell_type": "markdown",
   "metadata": {},
   "source": [
    "4. How does Pyhton implement method overloading? Give an example.\n",
    "\n",
    "Answer -\n",
    "    \n",
    "    Python doesn't support method overloading in the traditional sense as seen in languages like Java or C++. Instead, Python uses a different approach to achieve similar functionality.\n",
    "    In Python, we can simulate method overloading using:- Default arguments;Variable-length arguments; Method dispatching based on argument types."
   ]
  },
  {
   "cell_type": "code",
   "execution_count": 3,
   "metadata": {},
   "outputs": [],
   "source": [
    "#Examples >>\n",
    "\n",
    "class Calculator:\n",
    "    def add(self, *args):\n",
    "        if len(args) == 0:\n",
    "            return 0\n",
    "        elif len(args) == 1:\n",
    "            return args[0]\n",
    "        elif len(args) == 2:\n",
    "            return args[0] + args[1]\n",
    "        else:\n",
    "            return sum(args)\n",
    "\n",
    "    def multiply(self, x, y=1):\n",
    "        return x * y"
   ]
  },
  {
   "cell_type": "code",
   "execution_count": 4,
   "metadata": {},
   "outputs": [
    {
     "name": "stdout",
     "output_type": "stream",
     "text": [
      "0\n",
      "5\n",
      "12\n",
      "10\n",
      "5\n",
      "25\n"
     ]
    }
   ],
   "source": [
    "calc = Calculator()\n",
    "\n",
    "print(calc.add())\n",
    "print(calc.add(5))\n",
    "print(calc.add(3, 9))\n",
    "print(calc.add(1, 2, 3, 4))\n",
    "\n",
    "print(calc.multiply(5))\n",
    "print(calc.multiply(5, 5))"
   ]
  },
  {
   "cell_type": "code",
   "execution_count": 5,
   "metadata": {},
   "outputs": [
    {
     "name": "stdout",
     "output_type": "stream",
     "text": [
      "60\n",
      "30\n"
     ]
    }
   ],
   "source": [
    "#using multiple dispatch method >>\n",
    "from multipledispatch import dispatch\n",
    "\n",
    "class Example:\n",
    "    @dispatch(int, int)\n",
    "    def add(self, a, b):\n",
    "        return a + b\n",
    "\n",
    "    @dispatch(int, int, int)\n",
    "    def add(self, a, b, c):\n",
    "        return a + b + c\n",
    "obj = Example()\n",
    "print(obj.add(10, 20, 30))\n",
    "print(obj.add(10, 20))\n"
   ]
  },
  {
   "cell_type": "markdown",
   "metadata": {},
   "source": [
    "The 'add' method uses variable-length arguments (*args):\n",
    "\n",
    "It can accept any number of arguments.\n",
    "The method's behavior changes based on the number of arguments provided.\n",
    "This simulates having multiple 'add' methods with different numbers of parameters.\n",
    "\n",
    "\n",
    "The 'multiply' method uses a default argument:\n",
    "\n",
    "It can be called with either one or two arguments.\n",
    "If only one argument is provided, 'y' defaults to 1.\n",
    "This simulates having two different 'multiply' methods, one with one parameter and another with two."
   ]
  },
  {
   "cell_type": "markdown",
   "metadata": {},
   "source": [
    "5. What are the three types of access modifiers in Python? How are they denoted?\n",
    "\n",
    "Answer - \n",
    "\n",
    "    In Python, access modifiers control the visibility and accessibility of class attributes and methods. There are three types of access modifiers:-\n",
    "    i. Public(default).\n",
    "    ii. Protected.\n",
    "    iii. Private.\n",
    "\n",
    "    i. Public >> \n",
    "    Attributes and methods that are accessible from anywhere, both inside and outside the class.\n",
    "    Denoted by: Regular naming simply using attribute or method name without any leading underscores (no special prefix).\n",
    "    Example - self.attribute\n",
    "\n",
    "    ii. Protected >> \n",
    "    Attributes and methods that are intended to be accessible only within(inside) the class and its subclasses/.\n",
    "    Denoted by a single leading underscore (_).\n",
    "    Example - self._attribute\n",
    "\n",
    "    iii. Private >> \n",
    "    Attributes and methods that are intended to be accessible only within the class itself.\n",
    "    Denoted by a double leading underscore (__).\n",
    "    Example -  self.__attribute"
   ]
  },
  {
   "cell_type": "code",
   "execution_count": 6,
   "metadata": {},
   "outputs": [
    {
     "name": "stdout",
     "output_type": "stream",
     "text": [
      "Network user\n",
      "You are using a public network\n"
     ]
    }
   ],
   "source": [
    "#Examples >> \n",
    "\n",
    "#Public >>\n",
    "class MyClass:\n",
    "    def __init__(self):\n",
    "        self.public_attribute = \"Network user\"\n",
    "\n",
    "    def public_method(self):\n",
    "        print(\"You are using a public network\")\n",
    "\n",
    "obj = MyClass()\n",
    "print(obj.public_attribute)  # Accessible\n",
    "obj.public_method()          # Accessible\n"
   ]
  },
  {
   "cell_type": "code",
   "execution_count": 7,
   "metadata": {},
   "outputs": [
    {
     "name": "stdout",
     "output_type": "stream",
     "text": [
      "My network is protected\n",
      "This is a protected network\n"
     ]
    }
   ],
   "source": [
    "#Protected >> \n",
    "class MyClass:\n",
    "    def __init__(self):\n",
    "        self._protected_attribute = \"My network is protected\"\n",
    "\n",
    "    def _protected_method(self):\n",
    "        print(\"This is a protected network\")\n",
    "\n",
    "class SubClass(MyClass):\n",
    "    def access_protected(self):\n",
    "        print(self._protected_attribute)  # Accessible in subclass\n",
    "        self._protected_method()          # Accessible in subclass\n",
    "\n",
    "obj = SubClass()\n",
    "obj.access_protected()"
   ]
  },
  {
   "cell_type": "code",
   "execution_count": 8,
   "metadata": {},
   "outputs": [
    {
     "name": "stdout",
     "output_type": "stream",
     "text": [
      "Private network\n",
      "This is a private network\n"
     ]
    }
   ],
   "source": [
    "#Private >> \n",
    "class MyClass:\n",
    "    def __init__(self):\n",
    "        self.__private_attribute = \"Private network\"\n",
    "\n",
    "    def __private_method(self):\n",
    "        print(\"This is a private network\")\n",
    "\n",
    "    def access_private(self):\n",
    "        print(self.__private_attribute)  # Accessible within the class\n",
    "        self.__private_method()          # Accessible within the class\n",
    "\n",
    "obj = MyClass()\n",
    "obj.access_private()"
   ]
  },
  {
   "cell_type": "markdown",
   "metadata": {},
   "source": [
    "6. Describe the five types of inheritance in Python. Provide a simple example of multiple inheritance.\n",
    "\n",
    "Answer - \n",
    "\n",
    "    Python supports five types of inheritance:-\n",
    "    i. Single Inheritance.\n",
    "    ii. Multiple Inheritance.\n",
    "    iii. Multilevel Inheritance.\n",
    "    iv. Hierarchical Inheritance.\n",
    "    v. Hybrid Inheritance."
   ]
  },
  {
   "cell_type": "code",
   "execution_count": 9,
   "metadata": {},
   "outputs": [
    {
     "name": "stdout",
     "output_type": "stream",
     "text": [
      "In the parent class.\n",
      "In the child class.\n"
     ]
    }
   ],
   "source": [
    "#Example >> \n",
    "\n",
    "#Single Inheritance >> A child class inherits from a single parent class/A class inherits from only one base class.\n",
    "\n",
    "class Parent:\n",
    "    def func1(self):\n",
    "        print(\"In the parent class.\")\n",
    "\n",
    "class Child(Parent):\n",
    "    def func2(self):\n",
    "        print(\"In the child class.\")\n",
    "\n",
    "obj = Child()\n",
    "obj.func1()\n",
    "obj.func2()\n"
   ]
  },
  {
   "cell_type": "code",
   "execution_count": 10,
   "metadata": {},
   "outputs": [
    {
     "name": "stdout",
     "output_type": "stream",
     "text": [
      "Mother info\n",
      "Father info\n",
      "Child info\n"
     ]
    }
   ],
   "source": [
    "#Multiple Inheritance >> A child class inherits from more than one parent class/A class inherits from more than one base class.\n",
    "\n",
    "class Mother:\n",
    "    def mother_info(self):\n",
    "        print(\"Mother info\")\n",
    "\n",
    "class Father:\n",
    "    def father_info(self):\n",
    "        print(\"Father info\")\n",
    "\n",
    "class Child(Mother, Father):\n",
    "    def child_info(self):\n",
    "        print(\"Child info\")\n",
    "\n",
    "obj = Child()\n",
    "obj.mother_info()\n",
    "obj.father_info()\n",
    "obj.child_info()\n"
   ]
  },
  {
   "cell_type": "code",
   "execution_count": 11,
   "metadata": {},
   "outputs": [
    {
     "name": "stdout",
     "output_type": "stream",
     "text": [
      "Grandparent info\n",
      "Parent info\n",
      "Child info\n"
     ]
    }
   ],
   "source": [
    "#Multilevel Inheritance >> A child inherits from a derived class, creating a parent-child-grandchild relationship.\n",
    "class Grandparent:\n",
    "    def grandparent_info(self):\n",
    "        print(\"Grandparent info\")\n",
    "\n",
    "class Parent(Grandparent):\n",
    "    def parent_info(self):\n",
    "        print(\"Parent info\")\n",
    "\n",
    "class Child(Parent):\n",
    "    def child_info(self):\n",
    "        print(\"Child info\")\n",
    "\n",
    "obj = Child()\n",
    "obj.grandparent_info()\n",
    "obj.parent_info()\n",
    "obj.child_info()\n"
   ]
  },
  {
   "cell_type": "code",
   "execution_count": 12,
   "metadata": {},
   "outputs": [
    {
     "name": "stdout",
     "output_type": "stream",
     "text": [
      "Parent info\n",
      "Child1 info\n",
      "Parent info\n",
      "Child2 info\n"
     ]
    }
   ],
   "source": [
    "#Hierarchical Inheritance >> Multiple child classes inherit from a single parent class.\n",
    "\n",
    "class Parent:\n",
    "    def parent_info(self):\n",
    "        print(\"Parent info\")\n",
    "\n",
    "class Child1(Parent):\n",
    "    def child1_info(self):\n",
    "        print(\"Child1 info\")\n",
    "\n",
    "class Child2(Parent):\n",
    "    def child2_info(self):\n",
    "        print(\"Child2 info\")\n",
    "\n",
    "obj1 = Child1()\n",
    "obj2 = Child2()\n",
    "obj1.parent_info()\n",
    "obj1.child1_info()\n",
    "obj2.parent_info()\n",
    "obj2.child2_info()\n"
   ]
  },
  {
   "cell_type": "code",
   "execution_count": 13,
   "metadata": {},
   "outputs": [
    {
     "name": "stdout",
     "output_type": "stream",
     "text": [
      "Base info\n",
      "Derived1 info\n",
      "Derived2 info\n",
      "Derived3 info\n"
     ]
    }
   ],
   "source": [
    "#Hybrid Inheritance >> A combination of two or more types of inheritance.\n",
    "\n",
    "class Base:\n",
    "    def base_info(self):\n",
    "        print(\"Base info\")\n",
    "\n",
    "class Derived1(Base):\n",
    "    def derived1_info(self):\n",
    "        print(\"Derived1 info\")\n",
    "\n",
    "class Derived2(Base):\n",
    "    def derived2_info(self):\n",
    "        print(\"Derived2 info\")\n",
    "\n",
    "class Derived3(Derived1, Derived2):\n",
    "    def derived3_info(self):\n",
    "        print(\"Derived3 info\")\n",
    "\n",
    "obj = Derived3()\n",
    "obj.base_info()\n",
    "obj.derived1_info()\n",
    "obj.derived2_info()\n",
    "obj.derived3_info()\n"
   ]
  },
  {
   "cell_type": "markdown",
   "metadata": {},
   "source": [
    "7. What is the Method resolution order (MRO) in Python? How can you retrieve it programmatically?\n",
    "\n",
    "Answer - \n",
    "\n",
    "    The Method Resolution Order (MRO) in Python is the order in which Python looks for method and attributes in a hierarchy of classes when dealing with inheritance, particularly multiple inheritance. It's crucial for determining which method or attribute to use when names conflict between parent classes.\n",
    "\n",
    "    Key points >>\n",
    "    i. Linearization:- MRO provides a linearization of the class hierarchy, ensuring a consistent and predictable order. Python uses the C3 linearization algorithm to compute the MRO.\n",
    "    ii. It ensures that a class always appears before its parent classes.\n",
    "    iii. It maintains the order in which base classes are listed in the class definition.\n",
    "\n",
    "    We can retrieve the MRO of a class using the __mro__ attribute or the mro() method.\n",
    "\n"
   ]
  },
  {
   "cell_type": "code",
   "execution_count": 14,
   "metadata": {},
   "outputs": [
    {
     "name": "stdout",
     "output_type": "stream",
     "text": [
      "Method in B\n"
     ]
    }
   ],
   "source": [
    "#Example of MRO >>\n",
    "\n",
    "class A:\n",
    "    def method(self):\n",
    "        print(\"Method in A\")\n",
    "\n",
    "class B(A):\n",
    "    def method(self):\n",
    "        print(\"Method in B\")\n",
    "\n",
    "class C(A):\n",
    "    def method(self):\n",
    "        print(\"Method in C\")\n",
    "\n",
    "class D(B, C):\n",
    "    pass\n",
    "\n",
    "\n",
    "obj = D()\n",
    "obj.method()\n"
   ]
  },
  {
   "cell_type": "code",
   "execution_count": 15,
   "metadata": {},
   "outputs": [
    {
     "name": "stdout",
     "output_type": "stream",
     "text": [
      "MRO using __mro__:\n",
      "(<class '__main__.D'>, <class '__main__.B'>, <class '__main__.C'>, <class '__main__.A'>, <class 'object'>)\n",
      "\n",
      "MRO using mro() method:\n",
      "[<class '__main__.D'>, <class '__main__.B'>, <class '__main__.C'>, <class '__main__.A'>, <class 'object'>]\n"
     ]
    }
   ],
   "source": [
    "# Retrieve MRO using __mro__ attribute\n",
    "print(\"MRO using __mro__:\")\n",
    "print(D.__mro__)\n",
    "\n",
    "# Retrieve MRO using mro() method\n",
    "print(\"\\nMRO using mro() method:\")\n",
    "print(D.mro())\n",
    "#Both __mro__ and mro() show the same order: D -> B -> C -> A -> object.\n"
   ]
  },
  {
   "cell_type": "markdown",
   "metadata": {},
   "source": [
    "8. Create an abstract base class 'shape' with an abstract method 'area()'. then create two subclasses 'circle' and 'rectangle' that implement the 'area()' method.\n",
    "\n",
    "Answer - \n",
    "\n",
    "    i. Abstract Base Class (Shape) >>\n",
    "    The Shape class inherits from ABC (Abstract Base Class).\n",
    "    The area method is decorated with @abstractmethod, indicating that it must be implemented by any subclass.\n",
    "    \n",
    "    ii. Circle Class >>\n",
    "    Inherits from Shape.\n",
    "    Implements the area method to calculate the area of a circle using the formula ( \\pi \\times \\text{radius}^2 ).\n",
    "\n",
    "    iii. Rectangle Class >>\n",
    "    Inherits from Shape.\n",
    "    Implements the area method to calculate the area of a rectangle using the formula (\\text{width} \\times \\text{height})."
   ]
  },
  {
   "cell_type": "code",
   "execution_count": 16,
   "metadata": {},
   "outputs": [],
   "source": [
    "from abc import ABC, abstractmethod\n",
    "import math\n",
    "\n",
    "class Shape(ABC):\n",
    "    @abstractmethod\n",
    "    def area(self):\n",
    "        pass\n",
    "\n",
    "class Circle(Shape):\n",
    "    def __init__(self, radius):\n",
    "        self.radius = radius\n",
    "\n",
    "    def area(self):\n",
    "        return math.pi * self.radius ** 2\n",
    "\n",
    "class Rectangle(Shape):\n",
    "    def __init__(self, width, height):\n",
    "        self.width = width\n",
    "        self.height = height\n",
    "\n",
    "    def area(self):\n",
    "        return self.width * self.height\n"
   ]
  },
  {
   "cell_type": "code",
   "execution_count": 17,
   "metadata": {},
   "outputs": [
    {
     "name": "stdout",
     "output_type": "stream",
     "text": [
      "Area of the circle: 78.53981633974483\n",
      "Area of the rectangle: 24\n"
     ]
    }
   ],
   "source": [
    "circle = Circle(5)\n",
    "rectangle = Rectangle(4, 6)\n",
    "\n",
    "print(f\"Area of the circle: {circle.area()}\")\n",
    "print(f\"Area of the rectangle: {rectangle.area()}\")\n"
   ]
  },
  {
   "cell_type": "markdown",
   "metadata": {},
   "source": [
    "9. Demonstrate polymorphism by creating a function that can work with different shape objects to calculate and print their areas.\n",
    "\n",
    "Answer - \n",
    "\n",
    "    We can create a function that takes a list of shape objects and calculates and prints their areas. This function will work with any object that implements the area method, regardless of the specific type of shape."
   ]
  },
  {
   "cell_type": "code",
   "execution_count": 18,
   "metadata": {},
   "outputs": [],
   "source": [
    "from abc import ABC, abstractmethod\n",
    "import math\n",
    "\n",
    "class Shape(ABC):\n",
    "    @abstractmethod\n",
    "    def area(self):\n",
    "        pass\n",
    "\n",
    "class Circle(Shape):\n",
    "    def __init__(self, radius):\n",
    "        self.radius = radius\n",
    "\n",
    "    def area(self):\n",
    "        return math.pi * self.radius ** 2\n",
    "\n",
    "class Rectangle(Shape):\n",
    "    def __init__(self, width, height):\n",
    "        self.width = width\n",
    "        self.height = height\n",
    "\n",
    "    def area(self):\n",
    "        return self.width * self.height\n",
    "\n",
    "def print_areas(shapes):\n",
    "    for shape in shapes:\n",
    "        print(f\"The area is: {shape.area()}\")\n",
    "\n",
    "\n"
   ]
  },
  {
   "cell_type": "code",
   "execution_count": 19,
   "metadata": {},
   "outputs": [
    {
     "name": "stdout",
     "output_type": "stream",
     "text": [
      "The area is: 78.53981633974483\n",
      "The area is: 24\n"
     ]
    }
   ],
   "source": [
    "circle = Circle(5)\n",
    "rectangle = Rectangle(4, 6)\n",
    "\n",
    "shapes = [circle, rectangle]\n",
    "print_areas(shapes)"
   ]
  },
  {
   "cell_type": "markdown",
   "metadata": {},
   "source": [
    "Abstract Base Class (Shape):-\n",
    "Defines the abstract method area() that must be implemented by any subclass.\n",
    "\n",
    "Circle Class:-\n",
    "Implements the area method to calculate the area of a circle.\n",
    "\n",
    "Rectangle Class:-\n",
    "Implements the area method to calculate the area of a rectangle.\n",
    "\n",
    "print_areas Function:-\n",
    "Takes a list of shape objects.\n",
    "Iterates through the list and calls the area method on each shape object, printing the result."
   ]
  },
  {
   "cell_type": "markdown",
   "metadata": {},
   "source": [
    "10. Implement encapsulation in a 'Bank Account' class with private attributes for 'Balance' and 'account_number'. Include methods for deposit, withdrawal, and balance inquiry."
   ]
  },
  {
   "cell_type": "code",
   "execution_count": 20,
   "metadata": {},
   "outputs": [],
   "source": [
    "#Answer >> \n",
    "class BankAccount:\n",
    "    def __init__(self, account_number, initial_balance=0):\n",
    "        self.__account_number = account_number\n",
    "        self.__balance = initial_balance\n",
    "\n",
    "    def deposit(self, amount):\n",
    "        if amount > 0:\n",
    "            self.__balance += amount\n",
    "            print(f\"Deposited: {amount}\")\n",
    "        else:\n",
    "            print(\"Deposit amount must be positive.\")\n",
    "\n",
    "    def withdraw(self, amount):\n",
    "        if 0 < amount <= self.__balance:\n",
    "            self.__balance -= amount\n",
    "            print(f\"Withdrew: {amount}\")\n",
    "        else:\n",
    "            print(\"Insufficient balance or invalid amount.\")\n",
    "\n",
    "    def check_balance(self):\n",
    "        print(f\"Account Number: {self.__account_number}, Balance: {self.__balance}\")\n",
    "\n"
   ]
  },
  {
   "cell_type": "code",
   "execution_count": 21,
   "metadata": {},
   "outputs": [
    {
     "name": "stdout",
     "output_type": "stream",
     "text": [
      "Deposited: 800\n",
      "Withdrew: 200\n",
      "Account Number: 123456789, Balance: 2600\n"
     ]
    }
   ],
   "source": [
    "account = BankAccount(\"123456789\", 2000)\n",
    "account.deposit(800)\n",
    "account.withdraw(200)\n",
    "account.check_balance()"
   ]
  },
  {
   "cell_type": "markdown",
   "metadata": {},
   "source": [
    "Private Attributes >>\n",
    "\n",
    "self.__account_number:- The account number is private and cannot be accessed directly from outside the class.\n",
    "self.__balance:- The balance is private and cannot be accessed directly from outside the class.\n",
    "\n",
    "Methods >>\n",
    "\n",
    "deposit(self, amount):- Adds the specified amount to the balance if the amount is positive.\n",
    "\n",
    "withdraw(self, amount):- Subtracts the specified amount from the balance if the amount is positive and does not exceed the current balance.\n",
    "\n",
    "check_balance(self):-\n",
    " Prints the account number and the current balance."
   ]
  },
  {
   "cell_type": "markdown",
   "metadata": {},
   "source": [
    "11. Write a class that overrides the '__str__' and '__add__' magic methods. What will these methods allow you to do ?\n",
    "\n",
    "Answer - \n",
    "\n",
    "    Overriding the __str__ and __add__ magic methods in a class allows us to customize the string representation of objects and define custom behavior for the addition operation, respectively. \n",
    "\n",
    "    '__str__' Method >> \n",
    "     The __str__ method is used to define a human-readable string representation of an object. This method is called by the str() function and the print() function.\n",
    "     This method returns a string in the format Vector(x, y), making it easy to understand the contents of a Vector object when printed.\n",
    "\n",
    "     Benefits > \n",
    "     Provides a clear and readable string representation of the object, which is useful for debugging and logging.\n",
    "\n",
    "     '__add__' Method >> \n",
    "     The __add__ method is used to define the behavior of the addition operator (+) for instances of the class. This allows us to specify how two objects of the class should be added together.\n",
    "     This method allows us to add two Vector objects by creating a new Vector with the sum of the corresponding x and y components.\n",
    "\n",
    "     Benefits >\n",
    "     Enables intuitive use of the + operator with custom objects, making the code more readable and expressive."
   ]
  },
  {
   "cell_type": "code",
   "execution_count": 22,
   "metadata": {},
   "outputs": [],
   "source": [
    "#Example >> here a class 'vector' overrides both '__str__' and '__add__' methods.\n",
    "\n",
    "class Vector:\n",
    "    def __init__(self, x, y):\n",
    "        self.x = x\n",
    "        self.y = y\n",
    "\n",
    "    def __str__(self):\n",
    "        return f\"Vector({self.x}, {self.y})\"\n",
    "\n",
    "    def __add__(self, other):\n",
    "        return Vector(self.x + other.x, self.y + other.y)\n",
    "\n"
   ]
  },
  {
   "cell_type": "code",
   "execution_count": 23,
   "metadata": {},
   "outputs": [
    {
     "name": "stdout",
     "output_type": "stream",
     "text": [
      "Vector(2, 3)\n",
      "Vector(4, 5)\n",
      "Vector(6, 8)\n"
     ]
    },
    {
     "data": {
      "text/plain": [
       "'These magic methods enhance the usability and readability of classes \\nby allowing us to define custom behaviors for common operations.'"
      ]
     },
     "execution_count": 23,
     "metadata": {},
     "output_type": "execute_result"
    }
   ],
   "source": [
    "v1 = Vector(2, 3)\n",
    "v2 = Vector(4, 5)\n",
    "\n",
    "print(v1)\n",
    "print(v2)\n",
    "\n",
    "v3 = v1 + v2\n",
    "print(v3)\n",
    "\n",
    "\"\"\"These magic methods enhance the usability and readability of classes \n",
    "by allowing us to define custom behaviors for common operations.\"\"\""
   ]
  },
  {
   "cell_type": "markdown",
   "metadata": {},
   "source": [
    "12. Create a decorator that measures and prints the execution time of a function.\n",
    "\n"
   ]
  },
  {
   "cell_type": "code",
   "execution_count": 24,
   "metadata": {},
   "outputs": [],
   "source": [
    "import time\n",
    "\n",
    "def measure_time(func):\n",
    "    def wrapper(*args, **kwargs):\n",
    "        start_time = time.perf_counter()\n",
    "        result = func(*args, **kwargs)\n",
    "        end_time = time.perf_counter()\n",
    "        execution_time = end_time - start_time\n",
    "        print(f\"Function '{func.__name__}' executed in {execution_time:.4f} seconds\")\n",
    "        return result\n",
    "    return wrapper\n",
    "\n"
   ]
  },
  {
   "cell_type": "code",
   "execution_count": 25,
   "metadata": {},
   "outputs": [
    {
     "name": "stdout",
     "output_type": "stream",
     "text": [
      "Function 'decorator_function' executed in 0.0031 seconds\n"
     ]
    },
    {
     "data": {
      "text/plain": [
       "'This decorator can be applied to any function to measure and \\nprint its execution time,making it a useful tool for performance monitoring'"
      ]
     },
     "execution_count": 25,
     "metadata": {},
     "output_type": "execute_result"
    }
   ],
   "source": [
    "\n",
    "@measure_time\n",
    "def decorator_function(n):\n",
    "    total = 0\n",
    "    for i in range(n):\n",
    "        total += i\n",
    "    return total\n",
    "decorator_function(100000)\n",
    "\"\"\"This decorator can be applied to any function to measure and \n",
    "print its execution time,making it a useful tool for performance monitoring\"\"\""
   ]
  },
  {
   "cell_type": "markdown",
   "metadata": {},
   "source": [
    "13. Explain the concept of the Diamond Problem in multiple inheritance. How does pyhton resolve it?\n",
    "\n",
    "Answer - \n",
    "\n",
    "    The Diamond Problem is a common issue in multiple inheritance scenarios. It occurs when a class inherits from two classes that both inherit from a single base class, forming a diamond-shaped inheritance structure. This can lead to ambiguity in method resolution. \n",
    "\n",
    "    Python resolves the Diamond Problem >>\n",
    "\n",
    "    Python uses the Method Resolution Order (MRO) to resolve this ambiguity. The MRO is a linearization of the inheritance hierarchy that Python uses to determine the order in which base classes are searched when executing a method. Python’s MRO follows the C3 linearization algorithm. Also python's 'super()' function can be used which helps in navigating the MRO and resolving the Diamond Problem by ensuring that each class's method is called in the correct order."
   ]
  },
  {
   "cell_type": "code",
   "execution_count": 26,
   "metadata": {},
   "outputs": [
    {
     "name": "stdout",
     "output_type": "stream",
     "text": [
      "Hello from B\n"
     ]
    },
    {
     "data": {
      "text/plain": [
       "' class D inherits from both B and C, which in turn inherit from A.\\n    When we call d.greet(),the question arises: should it call the greet method from B or C?\\n'"
      ]
     },
     "execution_count": 26,
     "metadata": {},
     "output_type": "execute_result"
    }
   ],
   "source": [
    "#Example >> \n",
    "\n",
    "class A:\n",
    "    def greet(self):\n",
    "        print(\"Hello from A\")\n",
    "\n",
    "class B(A):\n",
    "    def greet(self):\n",
    "        print(\"Hello from B\")\n",
    "\n",
    "class C(A):\n",
    "    def greet(self):\n",
    "        print(\"Hello from C\")\n",
    "\n",
    "class D(B, C):\n",
    "    pass\n",
    "\n",
    "d = D()\n",
    "d.greet()\n",
    "\n",
    "\"\"\" class D inherits from both B and C, which in turn inherit from A.\n",
    "    When we call d.greet(),the question arises: should it call the greet method from B or C?\n",
    "\"\"\"\n"
   ]
  },
  {
   "cell_type": "code",
   "execution_count": 27,
   "metadata": {},
   "outputs": [
    {
     "name": "stdout",
     "output_type": "stream",
     "text": [
      "(<class '__main__.D'>, <class '__main__.B'>, <class '__main__.C'>, <class '__main__.A'>, <class 'object'>)\n",
      "[<class '__main__.D'>, <class '__main__.B'>, <class '__main__.C'>, <class '__main__.A'>, <class 'object'>]\n"
     ]
    }
   ],
   "source": [
    "print(D.__mro__)\n",
    "\n",
    "print(D.mro())"
   ]
  },
  {
   "cell_type": "code",
   "execution_count": 28,
   "metadata": {},
   "outputs": [
    {
     "name": "stdout",
     "output_type": "stream",
     "text": [
      "Hello from B\n"
     ]
    }
   ],
   "source": [
    "d.greet()"
   ]
  },
  {
   "cell_type": "code",
   "execution_count": 29,
   "metadata": {},
   "outputs": [
    {
     "name": "stdout",
     "output_type": "stream",
     "text": [
      "Hello from A\n",
      "Hello from C\n",
      "Hello from B\n",
      "Hello from D\n"
     ]
    }
   ],
   "source": [
    "#Using super() >>\n",
    "\n",
    "class A:\n",
    "    def greet(self):\n",
    "        print(\"Hello from A\")\n",
    "\n",
    "class B(A):\n",
    "    def greet(self):\n",
    "        super().greet()\n",
    "        print(\"Hello from B\")\n",
    "\n",
    "class C(A):\n",
    "    def greet(self):\n",
    "        super().greet()\n",
    "        print(\"Hello from C\")\n",
    "\n",
    "class D(B, C):\n",
    "    def greet(self):\n",
    "        super().greet()\n",
    "        print(\"Hello from D\")\n",
    "\n",
    "d = D()\n",
    "d.greet()\n"
   ]
  },
  {
   "cell_type": "markdown",
   "metadata": {},
   "source": [
    "14. Write a class method that keeps track of the number of instances created from a class.\n",
    "\n",
    "Answer - \n",
    "    \n",
    "    Class Variable:- 'instance_count' is a class variable that keeps track of the number of instances created.\n",
    "\n",
    "    Constructor (__init__ method):- Each time a new instance is created, the constructor increments the 'instance_count' by 1.\n",
    "\n",
    "    Class Method (get_instance_count):- This method returns the current count of instances. It uses the '@classmethod' decorator, which allows it to access the class variable 'instance_count'.\n",
    "\n",
    "    After creating the instances of the 'InstanceCounter' class, the 'instance_count' variable is incremented and can retrieve the count using the 'get_instance_count' class method."
   ]
  },
  {
   "cell_type": "code",
   "execution_count": 30,
   "metadata": {},
   "outputs": [],
   "source": [
    "#Example >> \n",
    "\n",
    "class InstanceCounter:\n",
    "    instance_count = 0\n",
    "\n",
    "    def __init__(self):\n",
    "        InstanceCounter.instance_count += 1\n",
    "\n",
    "    @classmethod\n",
    "    def get_instance_count(cls):\n",
    "        return cls.instance_count\n",
    "\n"
   ]
  },
  {
   "cell_type": "code",
   "execution_count": 31,
   "metadata": {},
   "outputs": [
    {
     "name": "stdout",
     "output_type": "stream",
     "text": [
      "3\n"
     ]
    }
   ],
   "source": [
    "obj1 = InstanceCounter()\n",
    "obj2 = InstanceCounter()\n",
    "obj3 = InstanceCounter()\n",
    "\n",
    "print(InstanceCounter.get_instance_count())"
   ]
  },
  {
   "cell_type": "markdown",
   "metadata": {},
   "source": [
    "15. Implement a static method in a class that checks if a given year is a leap year.\n",
    "\n",
    "Answer - \n",
    "\n",
    "    Static Method:- The 'is_leap_year' method is decorated with '@staticmethod', which means it doesn’t require access to the class or instance variables. It can be called directly on the class.\n",
    "\n",
    "    Leap Year Logic:- The method checks if the year is divisible by 4 but not by 100, or if it is divisible by 400. This is the standard rule for determining leap years.\n",
    "\n",
    "    Divisible by 4:- The year must be divisible by 4.\n",
    "\n",
    "    Not Divisible by 100:- If the year is divisible by 100, it must also be divisible by 400 to be a leap year."
   ]
  },
  {
   "cell_type": "code",
   "execution_count": 32,
   "metadata": {},
   "outputs": [],
   "source": [
    "#Example >> \n",
    "\n",
    "class YearChecker:\n",
    "    @staticmethod\n",
    "    def is_leap_year(year):\n",
    "        if (year % 4 == 0 and year % 100 != 0) or (year % 400 == 0):\n",
    "            return True\n",
    "        return False\n",
    "\n"
   ]
  },
  {
   "cell_type": "code",
   "execution_count": 33,
   "metadata": {},
   "outputs": [
    {
     "name": "stdout",
     "output_type": "stream",
     "text": [
      "True\n",
      "True\n",
      "False\n",
      "False\n",
      "True\n"
     ]
    }
   ],
   "source": [
    "\n",
    "print(YearChecker.is_leap_year(2020))\n",
    "print(YearChecker.is_leap_year(2024))\n",
    "print(YearChecker.is_leap_year(1900))\n",
    "print(YearChecker.is_leap_year(1997))\n",
    "print(YearChecker.is_leap_year(2000))"
   ]
  },
  {
   "cell_type": "code",
   "execution_count": null,
   "metadata": {},
   "outputs": [],
   "source": []
  }
 ],
 "metadata": {
  "kernelspec": {
   "display_name": "Python 3",
   "language": "python",
   "name": "python3"
  },
  "language_info": {
   "codemirror_mode": {
    "name": "ipython",
    "version": 3
   },
   "file_extension": ".py",
   "mimetype": "text/x-python",
   "name": "python",
   "nbconvert_exporter": "python",
   "pygments_lexer": "ipython3",
   "version": "3.11.9"
  }
 },
 "nbformat": 4,
 "nbformat_minor": 2
}
